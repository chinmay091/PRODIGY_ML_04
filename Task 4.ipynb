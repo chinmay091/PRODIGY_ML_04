{
 "cells": [
  {
   "cell_type": "code",
   "execution_count": 1,
   "id": "a6becf1b-8907-48c3-a857-6d94ba317fcf",
   "metadata": {},
   "outputs": [],
   "source": [
    "import numpy as np\n",
    "import pandas as pd\n",
    "import os\n",
    "import cv2\n",
    "import matplotlib.pyplot as plt\n",
    "from sklearn.model_selection import train_test_split\n",
    "from sklearn.preprocessing import LabelBinarizer\n",
    "from tensorflow.keras.models import Sequential\n",
    "from tensorflow.keras.layers import Conv2D, MaxPooling2D, Flatten, Dense, Dropout\n",
    "from tensorflow.keras.utils import to_categorical\n",
    "from tensorflow.keras.callbacks import EarlyStopping\n"
   ]
  },
  {
   "cell_type": "markdown",
   "id": "dbc661c3-071b-4f34-b86c-eb01b20648e9",
   "metadata": {},
   "source": [
    "# Loading and Preprocessing Data"
   ]
  },
  {
   "cell_type": "code",
   "execution_count": 2,
   "id": "67c4bcc0-bd45-4b07-beec-901a1aff2d8a",
   "metadata": {},
   "outputs": [],
   "source": [
    "# Load and preprocess the dataset\n",
    "def load_images_labels(data_dir):\n",
    "    images = []\n",
    "    labels = []\n",
    "    for dirpath, dirnames, filenames in os.walk(data_dir):\n",
    "        for file in filenames:\n",
    "            if file.endswith(\".png\"):\n",
    "                img_path = os.path.join(dirpath, file)\n",
    "                image = cv2.imread(img_path, cv2.IMREAD_GRAYSCALE)\n",
    "                image = cv2.resize(image, (128, 128))\n",
    "                images.append(image)\n",
    "                label = dirpath.split('/')[-1]\n",
    "                labels.append(label)\n",
    "    return np.array(images), np.array(labels)\n",
    "\n",
    "data_dir = 'D:\\Internship Tasks (Prodigy InfoTech)\\Task 4'\n",
    "images, labels = load_images_labels(data_dir)\n",
    "\n",
    "# Normalize the images\n",
    "images = images / 255.0\n",
    "\n",
    "# Convert labels to categorical format\n",
    "label_binarizer = LabelBinarizer()\n",
    "labels = label_binarizer.fit_transform(labels)\n"
   ]
  },
  {
   "cell_type": "markdown",
   "id": "da9e4a1c-2be8-448d-ae53-d9d37f58a8e7",
   "metadata": {},
   "source": [
    "## Splitting training and testing data"
   ]
  },
  {
   "cell_type": "code",
   "execution_count": 3,
   "id": "03fa19f7-f6c8-46ed-a957-c1af091c67c3",
   "metadata": {},
   "outputs": [],
   "source": [
    "X_train, X_test, y_train, y_test = train_test_split(images, labels, test_size=0.2, random_state=42)\n",
    "X_train = X_train.reshape(-1, 128, 128, 1)\n",
    "X_test = X_test.reshape(-1, 128, 128, 1)"
   ]
  },
  {
   "cell_type": "markdown",
   "id": "0d36efb6-d815-4b50-9d71-b480e8ab4ba0",
   "metadata": {},
   "source": [
    "# Using the CNN Model"
   ]
  },
  {
   "cell_type": "code",
   "execution_count": 5,
   "id": "91c4930f-4834-44ef-afb4-d4260f51f8ec",
   "metadata": {},
   "outputs": [],
   "source": [
    "model = Sequential([\n",
    "    Conv2D(32, (3, 3), activation='relu', input_shape=(128, 128, 1)),\n",
    "    MaxPooling2D((2, 2)),\n",
    "    Conv2D(64, (3, 3), activation='relu'),\n",
    "    MaxPooling2D((2, 2)),\n",
    "    Conv2D(128, (3, 3), activation='relu'),\n",
    "    MaxPooling2D((2, 2)),\n",
    "    Flatten(),\n",
    "    Dense(128, activation='relu'),\n",
    "    Dropout(0.5),\n",
    "    Dense(len(label_binarizer.classes_), activation='softmax')\n",
    "])\n",
    "\n",
    "model.compile(optimizer='adam', loss='categorical_crossentropy', metrics=['accuracy'])"
   ]
  },
  {
   "cell_type": "code",
   "execution_count": 6,
   "id": "25d6f1f8-fc36-439a-9b8d-ff96e4f09931",
   "metadata": {},
   "outputs": [
    {
     "name": "stdout",
     "output_type": "stream",
     "text": [
      "Epoch 1/30\n",
      "\u001b[1m800/800\u001b[0m \u001b[32m━━━━━━━━━━━━━━━━━━━━\u001b[0m\u001b[37m\u001b[0m \u001b[1m215s\u001b[0m 264ms/step - accuracy: 0.2481 - loss: 3.2710 - val_accuracy: 0.4722 - val_loss: 0.8522\n",
      "Epoch 2/30\n",
      "\u001b[1m800/800\u001b[0m \u001b[32m━━━━━━━━━━━━━━━━━━━━\u001b[0m\u001b[37m\u001b[0m \u001b[1m237s\u001b[0m 296ms/step - accuracy: 0.4752 - loss: 1.0552 - val_accuracy: 0.4677 - val_loss: 0.7885\n",
      "Epoch 3/30\n",
      "\u001b[1m800/800\u001b[0m \u001b[32m━━━━━━━━━━━━━━━━━━━━\u001b[0m\u001b[37m\u001b[0m \u001b[1m230s\u001b[0m 288ms/step - accuracy: 0.4899 - loss: 0.9060 - val_accuracy: 0.4828 - val_loss: 0.7746\n",
      "Epoch 4/30\n",
      "\u001b[1m800/800\u001b[0m \u001b[32m━━━━━━━━━━━━━━━━━━━━\u001b[0m\u001b[37m\u001b[0m \u001b[1m229s\u001b[0m 286ms/step - accuracy: 0.4962 - loss: 0.8490 - val_accuracy: 0.4808 - val_loss: 0.7658\n",
      "Epoch 5/30\n",
      "\u001b[1m800/800\u001b[0m \u001b[32m━━━━━━━━━━━━━━━━━━━━\u001b[0m\u001b[37m\u001b[0m \u001b[1m227s\u001b[0m 284ms/step - accuracy: 0.4894 - loss: 0.8315 - val_accuracy: 0.4694 - val_loss: 0.7577\n",
      "Epoch 6/30\n",
      "\u001b[1m800/800\u001b[0m \u001b[32m━━━━━━━━━━━━━━━━━━━━\u001b[0m\u001b[37m\u001b[0m \u001b[1m237s\u001b[0m 296ms/step - accuracy: 0.4933 - loss: 0.8184 - val_accuracy: 0.4859 - val_loss: 0.7451\n",
      "Epoch 7/30\n",
      "\u001b[1m800/800\u001b[0m \u001b[32m━━━━━━━━━━━━━━━━━━━━\u001b[0m\u001b[37m\u001b[0m \u001b[1m238s\u001b[0m 297ms/step - accuracy: 0.4959 - loss: 0.8093 - val_accuracy: 0.4755 - val_loss: 0.7579\n",
      "Epoch 8/30\n",
      "\u001b[1m800/800\u001b[0m \u001b[32m━━━━━━━━━━━━━━━━━━━━\u001b[0m\u001b[37m\u001b[0m \u001b[1m231s\u001b[0m 289ms/step - accuracy: 0.4975 - loss: 0.7963 - val_accuracy: 0.4761 - val_loss: 0.7480\n",
      "Epoch 9/30\n",
      "\u001b[1m800/800\u001b[0m \u001b[32m━━━━━━━━━━━━━━━━━━━━\u001b[0m\u001b[37m\u001b[0m \u001b[1m235s\u001b[0m 294ms/step - accuracy: 0.4960 - loss: 0.7934 - val_accuracy: 0.4694 - val_loss: 0.7707\n",
      "Epoch 10/30\n",
      "\u001b[1m800/800\u001b[0m \u001b[32m━━━━━━━━━━━━━━━━━━━━\u001b[0m\u001b[37m\u001b[0m \u001b[1m310s\u001b[0m 388ms/step - accuracy: 0.4951 - loss: 0.7891 - val_accuracy: 0.4752 - val_loss: 0.7439\n",
      "Epoch 11/30\n",
      "\u001b[1m800/800\u001b[0m \u001b[32m━━━━━━━━━━━━━━━━━━━━\u001b[0m\u001b[37m\u001b[0m \u001b[1m327s\u001b[0m 409ms/step - accuracy: 0.4974 - loss: 0.7846 - val_accuracy: 0.4702 - val_loss: 0.7555\n",
      "Epoch 12/30\n",
      "\u001b[1m800/800\u001b[0m \u001b[32m━━━━━━━━━━━━━━━━━━━━\u001b[0m\u001b[37m\u001b[0m \u001b[1m334s\u001b[0m 418ms/step - accuracy: 0.4967 - loss: 0.7795 - val_accuracy: 0.4652 - val_loss: 0.7541\n",
      "Epoch 13/30\n",
      "\u001b[1m800/800\u001b[0m \u001b[32m━━━━━━━━━━━━━━━━━━━━\u001b[0m\u001b[37m\u001b[0m \u001b[1m323s\u001b[0m 404ms/step - accuracy: 0.5054 - loss: 0.7702 - val_accuracy: 0.4681 - val_loss: 0.7549\n",
      "Epoch 14/30\n",
      "\u001b[1m800/800\u001b[0m \u001b[32m━━━━━━━━━━━━━━━━━━━━\u001b[0m\u001b[37m\u001b[0m \u001b[1m323s\u001b[0m 403ms/step - accuracy: 0.4972 - loss: 0.7693 - val_accuracy: 0.4730 - val_loss: 0.7481\n",
      "Epoch 15/30\n",
      "\u001b[1m800/800\u001b[0m \u001b[32m━━━━━━━━━━━━━━━━━━━━\u001b[0m\u001b[37m\u001b[0m \u001b[1m313s\u001b[0m 391ms/step - accuracy: 0.5086 - loss: 0.7621 - val_accuracy: 0.4605 - val_loss: 0.7502\n"
     ]
    }
   ],
   "source": [
    "early_stopping = EarlyStopping(monitor='val_loss', patience=5, restore_best_weights=True)\n",
    "\n",
    "history = model.fit(\n",
    "    X_train, y_train,\n",
    "    validation_split=0.2,\n",
    "    epochs=30,\n",
    "    batch_size=32,\n",
    "    callbacks=[early_stopping]\n",
    ")"
   ]
  },
  {
   "cell_type": "markdown",
   "id": "be349c56-dcae-41b6-912c-bd290f5aa7ee",
   "metadata": {},
   "source": [
    "## Evaluating the model"
   ]
  },
  {
   "cell_type": "code",
   "execution_count": 7,
   "id": "ee3f1658-da14-4097-953c-faac22739aec",
   "metadata": {},
   "outputs": [
    {
     "name": "stdout",
     "output_type": "stream",
     "text": [
      "\u001b[1m250/250\u001b[0m \u001b[32m━━━━━━━━━━━━━━━━━━━━\u001b[0m\u001b[37m\u001b[0m \u001b[1m23s\u001b[0m 89ms/step - accuracy: 0.4681 - loss: 0.7476\n",
      "Test accuracy: 0.4717499911785126\n"
     ]
    }
   ],
   "source": [
    "test_loss, test_accuracy = model.evaluate(X_test, y_test)\n",
    "print(f'Test accuracy: {test_accuracy}')"
   ]
  },
  {
   "cell_type": "markdown",
   "id": "9bbe898e-c80d-4542-8140-fac14f8aa82a",
   "metadata": {},
   "source": [
    "## Visualizing the model"
   ]
  },
  {
   "cell_type": "code",
   "execution_count": 8,
   "id": "94ef4d8e-3f0c-4200-a6ed-3cde96470b6b",
   "metadata": {},
   "outputs": [
    {
     "data": {
      "image/png": "[encoded data removed]",
      "text/plain": [
       "<Figure size 640x480 with 1 Axes>"
      ]
     },
     "metadata": {},
     "output_type": "display_data"
    }
   ],
   "source": [
    "plt.plot(history.history['accuracy'], label='accuracy')\n",
    "plt.plot(history.history['val_accuracy'], label='val_accuracy')\n",
    "plt.xlabel('Epoch')\n",
    "plt.ylabel('Accuracy')\n",
    "plt.legend(loc='lower right')\n",
    "plt.show()"
   ]
  },
  {
   "cell_type": "markdown",
   "id": "a508dd93-62eb-4785-89a8-aa6071d4884f",
   "metadata": {},
   "source": [
    "## Finally saving the model"
   ]
  },
  {
   "cell_type": "code",
   "execution_count": 10,
   "id": "905051eb-730d-4e0b-81be-062bf3c6b1db",
   "metadata": {},
   "outputs": [],
   "source": [
    "model.save('hand_gesture_recognition_model.keras')"
   ]
  },
  {
   "cell_type": "markdown",
   "id": "1a015dcb-2638-4605-a953-922daa1b9a10",
   "metadata": {},
   "source": [
    "## Compressing the File"
   ]
  },
  {
   "cell_type": "code",
   "execution_count": 11,
   "id": "439223cb-d143-49a9-a8c1-123c7f2ff7ee",
   "metadata": {},
   "outputs": [],
   "source": [
    "import gzip\n",
    "import shutil"
   ]
  },
  {
   "cell_type": "code",
   "execution_count": 12,
   "id": "d83f7e22-2a93-4ab1-a5b2-689b7a399eea",
   "metadata": {},
   "outputs": [],
   "source": [
    "with open('hand_gesture_recognition_model.keras', 'rb') as f_in:\n",
    "    with gzip.open('hand_gesture_recognition_model.keras.gz', 'wb') as f_out:\n",
    "        shutil.copyfileobj(f_in, f_out)"
   ]
  },
  {
   "cell_type": "code",
   "execution_count": null,
   "id": "a3043536-8302-4f4c-842e-f7bbf4fd3495",
   "metadata": {},
   "outputs": [],
   "source": []
  }
 ],
 "metadata": {
  "kernelspec": {
   "display_name": "Python 3 (ipykernel)",
   "language": "python",
   "name": "python3"
  },
  "language_info": {
   "codemirror_mode": {
    "name": "ipython",
    "version": 3
   },
   "file_extension": ".py",
   "mimetype": "text/x-python",
   "name": "python",
   "nbconvert_exporter": "python",
   "pygments_lexer": "ipython3",
   "version": "3.11.4"
  }
 },
 "nbformat": 4,
 "nbformat_minor": 5
}
